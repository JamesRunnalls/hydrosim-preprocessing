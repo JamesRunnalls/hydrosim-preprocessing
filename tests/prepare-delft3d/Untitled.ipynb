{
 "cells": [
  {
   "cell_type": "code",
   "execution_count": 33,
   "id": "modified-insertion",
   "metadata": {},
   "outputs": [],
   "source": [
    "import os\n",
    "import netCDF4\n",
    "import numpy as np"
   ]
  },
  {
   "cell_type": "code",
   "execution_count": 9,
   "id": "material-python",
   "metadata": {},
   "outputs": [
    {
     "data": {
      "text/plain": [
       "['cosmo2_epfl_lakes_20210101.nc',\n",
       " 'cosmo2_epfl_lakes_20210102.nc',\n",
       " 'cosmo2_epfl_lakes_20210103.nc',\n",
       " 'cosmo2_epfl_lakes_20210104.nc']"
      ]
     },
     "execution_count": 9,
     "metadata": {},
     "output_type": "execute_result"
    }
   ],
   "source": [
    "os.listdir(\"demo-data/Meteodata/2021\")"
   ]
  },
  {
   "cell_type": "code",
   "execution_count": 10,
   "id": "critical-blank",
   "metadata": {},
   "outputs": [],
   "source": [
    "ncfile = netCDF4.Dataset(\"demo-data/Meteodata/2021/cosmo2_epfl_lakes_20210101.nc\",mode='r',format='NETCDF4_CLASSIC')"
   ]
  },
  {
   "cell_type": "code",
   "execution_count": 27,
   "id": "sublime-skill",
   "metadata": {},
   "outputs": [
    {
     "data": {
      "text/plain": [
       "['lon_1', 'lat_1']"
      ]
     },
     "execution_count": 27,
     "metadata": {},
     "output_type": "execute_result"
    }
   ],
   "source": [
    "ncfile.variables[\"T_2M\"].coordinates.split(\" \")"
   ]
  },
  {
   "cell_type": "code",
   "execution_count": 42,
   "id": "documented-requirement",
   "metadata": {},
   "outputs": [
    {
     "data": {
      "text/plain": [
       "<class 'netCDF4._netCDF4.Variable'>\n",
       "float32 lat_1(y_1, x_1)\n",
       "    standard_name: latitude\n",
       "    long_name: latitude\n",
       "    units: degrees_north\n",
       "unlimited dimensions: \n",
       "current shape = (281, 481)\n",
       "filling on, default _FillValue of 9.969209968386869e+36 used"
      ]
     },
     "execution_count": 42,
     "metadata": {},
     "output_type": "execute_result"
    }
   ],
   "source": [
    "ncfile.variables[\"lat_1\"]"
   ]
  },
  {
   "cell_type": "code",
   "execution_count": 46,
   "id": "accessory-earthquake",
   "metadata": {},
   "outputs": [],
   "source": [
    "coord = [46.35,6.89]\n",
    "\n",
    "lat = ncfile.variables[\"lat_1\"][:]\n",
    "lon = ncfile.variables[\"lon_1\"][:]\n",
    "\n",
    "dist = np.sqrt((lat - coord[0])**2 + (lon - coord[1])**2)\n",
    "min_dist = np.argwhere(dist == np.min(dist))[0]"
   ]
  },
  {
   "cell_type": "code",
   "execution_count": 47,
   "id": "tested-challenge",
   "metadata": {},
   "outputs": [
    {
     "data": {
      "text/plain": [
       "array([121, 177])"
      ]
     },
     "execution_count": 47,
     "metadata": {},
     "output_type": "execute_result"
    }
   ],
   "source": [
    "min_dist"
   ]
  },
  {
   "cell_type": "code",
   "execution_count": 54,
   "id": "failing-killing",
   "metadata": {},
   "outputs": [
    {
     "data": {
      "text/plain": [
       "array([3.6202087, 3.041504 , 2.9580383, 3.2137146, 3.1199646, 3.0161438,\n",
       "       2.0321655, 1.1964722, 1.023346 , 2.1256714, 2.8822021, 3.4392395,\n",
       "       3.6230774, 3.5312195, 3.7422485, 3.5785828, 3.2885437, 3.0643616,\n",
       "       2.464447 , 2.04068  , 2.2368164, 2.0780334, 2.0679016, 1.7994995],\n",
       "      dtype=float32)"
      ]
     },
     "execution_count": 54,
     "metadata": {},
     "output_type": "execute_result"
    }
   ],
   "source": [
    "np.array(ncfile.variables[\"T_2M\"][:,min_dist[0],min_dist[1]])-273.15"
   ]
  },
  {
   "cell_type": "code",
   "execution_count": 56,
   "id": "copyrighted-bikini",
   "metadata": {},
   "outputs": [
    {
     "data": {
      "text/plain": [
       "array([ 1.,  2.,  3.,  4.,  5.,  6.,  7.,  8.,  9., 10., 11., 12., 13.,\n",
       "       14., 15., 16., 17., 18., 19., 20., 21., 22., 23., 24.])"
      ]
     },
     "execution_count": 56,
     "metadata": {},
     "output_type": "execute_result"
    }
   ],
   "source": [
    "np.array(ncfile.variables[\"time\"][:])"
   ]
  },
  {
   "cell_type": "code",
   "execution_count": 64,
   "id": "pressing-palace",
   "metadata": {},
   "outputs": [
    {
     "data": {
      "text/plain": [
       "<class 'netCDF4._netCDF4.Variable'>\n",
       "float32 RELHUM_2M(time, y_1, x_1)\n",
       "    units: %\n",
       "    long_name: 2m relative humidity (with respect to water)\n",
       "    coordinates: lon_1 lat_1\n",
       "    grid_mapping: grid_mapping_1\n",
       "    _FillValue: -3.4028235e+38\n",
       "unlimited dimensions: time\n",
       "current shape = (24, 281, 481)\n",
       "filling on"
      ]
     },
     "execution_count": 64,
     "metadata": {},
     "output_type": "execute_result"
    }
   ],
   "source": [
    "ncfile.variables[\"RELHUM_2M\"]"
   ]
  },
  {
   "cell_type": "code",
   "execution_count": 59,
   "id": "stable-automation",
   "metadata": {},
   "outputs": [
    {
     "data": {
      "text/plain": [
       "[]"
      ]
     },
     "execution_count": 59,
     "metadata": {},
     "output_type": "execute_result"
    }
   ],
   "source": [
    "[] * 4"
   ]
  },
  {
   "cell_type": "code",
   "execution_count": null,
   "id": "steady-moral",
   "metadata": {},
   "outputs": [],
   "source": []
  }
 ],
 "metadata": {
  "kernelspec": {
   "display_name": "thetis",
   "language": "python",
   "name": "thetis"
  },
  "language_info": {
   "codemirror_mode": {
    "name": "ipython",
    "version": 3
   },
   "file_extension": ".py",
   "mimetype": "text/x-python",
   "name": "python",
   "nbconvert_exporter": "python",
   "pygments_lexer": "ipython3",
   "version": "3.7.3"
  }
 },
 "nbformat": 4,
 "nbformat_minor": 5
}
